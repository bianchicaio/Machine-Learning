{
 "cells": [
  {
   "cell_type": "code",
   "execution_count": null,
   "metadata": {},
   "outputs": [],
   "source": [
    "from sklearn.metrics import silhouette_samples, silhouette_score"
   ]
  },
  {
   "cell_type": "code",
   "execution_count": null,
   "metadata": {},
   "outputs": [],
   "source": [
    "faixa_n_clusters = [i for i in range(2,10)]\n",
    "valores_silhueta = []\n",
    "for k in faixa_n_clusters:\n",
    "    agrupador = KMeans(n_clusters=k, random_state=10) #random state para inicializar sempre no mesmo local\n",
    "    labels = agrupador.fit_predict(df)\n",
    "    media_silhueta = silhouette_score(df, labels)\n",
    "    valores_silhueta.append(media_silhueta)"
   ]
  },
  {
   "cell_type": "code",
   "execution_count": null,
   "metadata": {},
   "outputs": [],
   "source": [
    "fig =go.Figure()\n",
    "fig.add_trace(go.Scatter(x = faixa_n_clusters, y = valores_silhueta))\n",
    "fig.update_layout(\n",
    "    title=\"Coeficiente de Silhueta K-means\",\n",
    "    xaxis_title=\"Valores de ‘k’ \",\n",
    "    yaxis_title=\"Coeficiente de Silhueta\",\n",
    "    font=dict(\n",
    "        family=\"Courier New, monospace\",\n",
    "        size=18,\n",
    "        color=\"#7f7f7f\"\n",
    "    )\n",
    ")\n",
    "fig.show()"
   ]
  },
  {
   "cell_type": "code",
   "execution_count": 1,
   "metadata": {},
   "outputs": [
    {
     "ename": "TypeError",
     "evalue": "'float' object cannot be interpreted as an integer",
     "output_type": "error",
     "traceback": [
      "\u001b[1;31m---------------------------------------------------------------------------\u001b[0m",
      "\u001b[1;31mTypeError\u001b[0m                                 Traceback (most recent call last)",
      "\u001b[1;32mc:\\Users\\bianc\\Desktop\\Programação\\Data Science - Alura\\Machine Learning - Clustering Básico\\Aula5.ipynb Cell 4'\u001b[0m in \u001b[0;36m<cell line: 1>\u001b[1;34m()\u001b[0m\n\u001b[1;32m----> <a href='vscode-notebook-cell:/c%3A/Users/bianc/Desktop/Programa%C3%A7%C3%A3o/Data%20Science%20-%20Alura/Machine%20Learning%20-%20Clustering%20B%C3%A1sico/Aula5.ipynb#ch0000003?line=0'>1</a>\u001b[0m faixa_quantil \u001b[39m=\u001b[39m [i\u001b[39m/\u001b[39m\u001b[39m100\u001b[39m \u001b[39mfor\u001b[39;00m i \u001b[39min\u001b[39;00m \u001b[39mrange\u001b[39;49m(\u001b[39m0.01\u001b[39;49m,\u001b[39m0.5\u001b[39;49m,\u001b[39m0.05\u001b[39;49m)]\n",
      "\u001b[1;31mTypeError\u001b[0m: 'float' object cannot be interpreted as an integer"
     ]
    }
   ],
   "source": [
    "faixa_quantil = [i/100 for i in range(0.01,0.5,0.05)]"
   ]
  },
  {
   "cell_type": "code",
   "execution_count": null,
   "metadata": {},
   "outputs": [],
   "source": [
    "valores_silhueta = []\n",
    "quantil_plot = []\n",
    "for quantil in faixa_quantil:\n",
    "    bandwidth = estimate_bandwidth(df, quantile=quantil)\n",
    "    agrupador = MeanShift(bandwidth = bandwidth)\n",
    "    agrupador.fit(df)\n",
    "    labels = agrupador.labels_   \n",
    "    if(Counter(labels)[0] < len(df) and Counter(labels)[0] > 1):\n",
    "        media_silhueta = silhouette_score(df, labels)\n",
    "        valores_silhueta.append(media_silhueta)\n",
    "        quantil_plot.append(quantil)"
   ]
  },
  {
   "cell_type": "code",
   "execution_count": null,
   "metadata": {},
   "outputs": [],
   "source": [
    "BW = estimate_bandwidth(df, quantile = 0.9)\n",
    "agrupador = MeanShift(bandwidth = BW)\n",
    "agrupador.fit(df)\n",
    "agrupador.labels_"
   ]
  },
  {
   "cell_type": "code",
   "execution_count": null,
   "metadata": {},
   "outputs": [],
   "source": [
    "fig =go.Figure()\n",
    "fig.add_trace(go.Scatter(x = quantil_plot, y = valores_silhueta))\n",
    "fig.update_layout(\n",
    "    title=\"Coeficiente de Silhueta para o Mean shift\",\n",
    "    xaxis_title=\"Valores dos quantis\",\n",
    "    yaxis_title=\"Coeficiente de Silhueta\",\n",
    "    font=dict(\n",
    "        family=\"Courier New, monospace\",\n",
    "        size=18,\n",
    "        color=\"#7f7f7f\"\n",
    "    )\n",
    ")\n",
    "fig.show()"
   ]
  },
  {
   "cell_type": "code",
   "execution_count": null,
   "metadata": {},
   "outputs": [],
   "source": []
  },
  {
   "cell_type": "code",
   "execution_count": null,
   "metadata": {},
   "outputs": [],
   "source": []
  },
  {
   "cell_type": "code",
   "execution_count": null,
   "metadata": {},
   "outputs": [],
   "source": []
  }
 ],
 "metadata": {
  "interpreter": {
   "hash": "909775f4c1c1337c10dd26386ad7fdd8e68c24cfe611dcacc1a198b9e09c3e1f"
  },
  "kernelspec": {
   "display_name": "Python 3.10.2 64-bit",
   "language": "python",
   "name": "python3"
  },
  "language_info": {
   "codemirror_mode": {
    "name": "ipython",
    "version": 3
   },
   "file_extension": ".py",
   "mimetype": "text/x-python",
   "name": "python",
   "nbconvert_exporter": "python",
   "pygments_lexer": "ipython3",
   "version": "3.10.2"
  }
 },
 "nbformat": 4,
 "nbformat_minor": 4
}
