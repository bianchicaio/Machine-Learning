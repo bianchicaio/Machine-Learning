{
  "cells": [
    {
      "cell_type": "markdown",
      "metadata": {
        "id": "yfn-WekILVdW"
      },
      "source": [
        "# Aula 2"
      ]
    },
    {
      "cell_type": "markdown",
      "metadata": {
        "id": "47a-zKQWLeYD"
      },
      "source": [
        "## Importando a biblioteca"
      ]
    },
    {
      "cell_type": "code",
      "execution_count": 9,
      "metadata": {
        "id": "RtVu6f4lFlvW"
      },
      "outputs": [],
      "source": [
        "import sklearn"
      ]
    },
    {
      "cell_type": "markdown",
      "metadata": {
        "id": "wXHVFrtsLZoa"
      },
      "source": [
        "## Importando as bases de dados"
      ]
    },
    {
      "cell_type": "code",
      "execution_count": 10,
      "metadata": {
        "colab": {
          "base_uri": "https://localhost:8080/"
        },
        "id": "TgbWGJKKTWbl",
        "outputId": "c66ed65d-5ccc-45cd-f19c-b32f659735a7"
      },
      "outputs": [
        {
          "data": {
            "text/plain": [
              "<function sklearn.datasets._base.load_iris(*, return_X_y=False, as_frame=False)>"
            ]
          },
          "execution_count": 10,
          "metadata": {},
          "output_type": "execute_result"
        }
      ],
      "source": [
        "from sklearn import datasets\n",
        "\n",
        "iris = datasets.load_iris\n",
        "iris"
      ]
    },
    {
      "cell_type": "code",
      "execution_count": 11,
      "metadata": {
        "colab": {
          "base_uri": "https://localhost:8080/",
          "height": 198
        },
        "id": "SM7nO6DaV_dc",
        "outputId": "9cffa118-dbe4-46f6-af9c-fb414bfb9102"
      },
      "outputs": [
        {
          "data": {
            "text/html": [
              "<div>\n",
              "<style scoped>\n",
              "    .dataframe tbody tr th:only-of-type {\n",
              "        vertical-align: middle;\n",
              "    }\n",
              "\n",
              "    .dataframe tbody tr th {\n",
              "        vertical-align: top;\n",
              "    }\n",
              "\n",
              "    .dataframe thead th {\n",
              "        text-align: right;\n",
              "    }\n",
              "</style>\n",
              "<table border=\"1\" class=\"dataframe\">\n",
              "  <thead>\n",
              "    <tr style=\"text-align: right;\">\n",
              "      <th></th>\n",
              "      <th>quantidade_gravidez</th>\n",
              "      <th>concentracao_glicose</th>\n",
              "      <th>pressao</th>\n",
              "      <th>espessura_triceps</th>\n",
              "      <th>insulina</th>\n",
              "      <th>imc</th>\n",
              "      <th>diabetes_pedigree</th>\n",
              "      <th>idade</th>\n",
              "      <th>resultado</th>\n",
              "    </tr>\n",
              "  </thead>\n",
              "  <tbody>\n",
              "    <tr>\n",
              "      <th>0</th>\n",
              "      <td>6</td>\n",
              "      <td>148</td>\n",
              "      <td>72</td>\n",
              "      <td>35</td>\n",
              "      <td>0</td>\n",
              "      <td>33.6</td>\n",
              "      <td>0.627</td>\n",
              "      <td>50</td>\n",
              "      <td>testado_positivo</td>\n",
              "    </tr>\n",
              "    <tr>\n",
              "      <th>1</th>\n",
              "      <td>1</td>\n",
              "      <td>85</td>\n",
              "      <td>66</td>\n",
              "      <td>29</td>\n",
              "      <td>0</td>\n",
              "      <td>26.6</td>\n",
              "      <td>0.351</td>\n",
              "      <td>31</td>\n",
              "      <td>testado_negativo</td>\n",
              "    </tr>\n",
              "    <tr>\n",
              "      <th>2</th>\n",
              "      <td>8</td>\n",
              "      <td>183</td>\n",
              "      <td>64</td>\n",
              "      <td>0</td>\n",
              "      <td>0</td>\n",
              "      <td>23.3</td>\n",
              "      <td>0.672</td>\n",
              "      <td>32</td>\n",
              "      <td>testado_positivo</td>\n",
              "    </tr>\n",
              "    <tr>\n",
              "      <th>3</th>\n",
              "      <td>1</td>\n",
              "      <td>89</td>\n",
              "      <td>66</td>\n",
              "      <td>23</td>\n",
              "      <td>94</td>\n",
              "      <td>28.1</td>\n",
              "      <td>0.167</td>\n",
              "      <td>21</td>\n",
              "      <td>testado_negativo</td>\n",
              "    </tr>\n",
              "    <tr>\n",
              "      <th>4</th>\n",
              "      <td>0</td>\n",
              "      <td>137</td>\n",
              "      <td>40</td>\n",
              "      <td>35</td>\n",
              "      <td>168</td>\n",
              "      <td>43.1</td>\n",
              "      <td>2.288</td>\n",
              "      <td>33</td>\n",
              "      <td>testado_positivo</td>\n",
              "    </tr>\n",
              "  </tbody>\n",
              "</table>\n",
              "</div>"
            ],
            "text/plain": [
              "   quantidade_gravidez  concentracao_glicose  pressao  espessura_triceps  \\\n",
              "0                    6                   148       72                 35   \n",
              "1                    1                    85       66                 29   \n",
              "2                    8                   183       64                  0   \n",
              "3                    1                    89       66                 23   \n",
              "4                    0                   137       40                 35   \n",
              "\n",
              "   insulina   imc  diabetes_pedigree  idade         resultado  \n",
              "0         0  33.6              0.627     50  testado_positivo  \n",
              "1         0  26.6              0.351     31  testado_negativo  \n",
              "2         0  23.3              0.672     32  testado_positivo  \n",
              "3        94  28.1              0.167     21  testado_negativo  \n",
              "4       168  43.1              2.288     33  testado_positivo  "
            ]
          },
          "execution_count": 11,
          "metadata": {},
          "output_type": "execute_result"
        }
      ],
      "source": [
        "import pandas as pd\n",
        "\n",
        "diabetes = pd.read_csv('https://gist.githubusercontent.com/davidneves11/944edb5ecb7bf6d1770eae91cb20d049/raw/50d3d054185815b0c49561f94badedc06ef3c313/diabetes.csv')\n",
        "diabetes.head()"
      ]
    },
    {
      "cell_type": "code",
      "execution_count": 12,
      "metadata": {
        "colab": {
          "base_uri": "https://localhost:8080/",
          "height": 218
        },
        "id": "Y3JoUK1BWZaE",
        "outputId": "921dc920-dce4-4b67-ceaf-34a0fe779313"
      },
      "outputs": [
        {
          "data": {
            "text/html": [
              "<div>\n",
              "<style scoped>\n",
              "    .dataframe tbody tr th:only-of-type {\n",
              "        vertical-align: middle;\n",
              "    }\n",
              "\n",
              "    .dataframe tbody tr th {\n",
              "        vertical-align: top;\n",
              "    }\n",
              "\n",
              "    .dataframe thead th {\n",
              "        text-align: right;\n",
              "    }\n",
              "</style>\n",
              "<table border=\"1\" class=\"dataframe\">\n",
              "  <thead>\n",
              "    <tr style=\"text-align: right;\">\n",
              "      <th></th>\n",
              "      <th>idade</th>\n",
              "      <th>genero</th>\n",
              "      <th>tipo_dor_peito</th>\n",
              "      <th>pressao_sanguinea_repouso</th>\n",
              "      <th>acucar_jejum</th>\n",
              "      <th>resultado_eletrocardio</th>\n",
              "      <th>freq_cardio_max</th>\n",
              "      <th>angina_exercicio</th>\n",
              "      <th>depressao_induzida_exercicio</th>\n",
              "      <th>inclinacao</th>\n",
              "      <th>num_princ_vasos</th>\n",
              "      <th>thal</th>\n",
              "      <th>diag_doenca_cardiaca</th>\n",
              "      <th>colesterol</th>\n",
              "    </tr>\n",
              "  </thead>\n",
              "  <tbody>\n",
              "    <tr>\n",
              "      <th>0</th>\n",
              "      <td>63</td>\n",
              "      <td>1</td>\n",
              "      <td>1</td>\n",
              "      <td>145</td>\n",
              "      <td>1</td>\n",
              "      <td>2</td>\n",
              "      <td>150</td>\n",
              "      <td>0</td>\n",
              "      <td>2.3</td>\n",
              "      <td>3</td>\n",
              "      <td>0</td>\n",
              "      <td>6</td>\n",
              "      <td>0</td>\n",
              "      <td>233</td>\n",
              "    </tr>\n",
              "    <tr>\n",
              "      <th>1</th>\n",
              "      <td>67</td>\n",
              "      <td>1</td>\n",
              "      <td>4</td>\n",
              "      <td>160</td>\n",
              "      <td>0</td>\n",
              "      <td>2</td>\n",
              "      <td>108</td>\n",
              "      <td>1</td>\n",
              "      <td>1.5</td>\n",
              "      <td>2</td>\n",
              "      <td>3</td>\n",
              "      <td>3</td>\n",
              "      <td>2</td>\n",
              "      <td>286</td>\n",
              "    </tr>\n",
              "    <tr>\n",
              "      <th>2</th>\n",
              "      <td>67</td>\n",
              "      <td>1</td>\n",
              "      <td>4</td>\n",
              "      <td>120</td>\n",
              "      <td>0</td>\n",
              "      <td>2</td>\n",
              "      <td>129</td>\n",
              "      <td>1</td>\n",
              "      <td>2.6</td>\n",
              "      <td>2</td>\n",
              "      <td>2</td>\n",
              "      <td>7</td>\n",
              "      <td>1</td>\n",
              "      <td>229</td>\n",
              "    </tr>\n",
              "    <tr>\n",
              "      <th>3</th>\n",
              "      <td>37</td>\n",
              "      <td>1</td>\n",
              "      <td>3</td>\n",
              "      <td>130</td>\n",
              "      <td>0</td>\n",
              "      <td>0</td>\n",
              "      <td>187</td>\n",
              "      <td>0</td>\n",
              "      <td>3.5</td>\n",
              "      <td>3</td>\n",
              "      <td>0</td>\n",
              "      <td>3</td>\n",
              "      <td>0</td>\n",
              "      <td>250</td>\n",
              "    </tr>\n",
              "    <tr>\n",
              "      <th>4</th>\n",
              "      <td>41</td>\n",
              "      <td>0</td>\n",
              "      <td>2</td>\n",
              "      <td>130</td>\n",
              "      <td>0</td>\n",
              "      <td>2</td>\n",
              "      <td>172</td>\n",
              "      <td>0</td>\n",
              "      <td>1.4</td>\n",
              "      <td>1</td>\n",
              "      <td>0</td>\n",
              "      <td>3</td>\n",
              "      <td>0</td>\n",
              "      <td>204</td>\n",
              "    </tr>\n",
              "  </tbody>\n",
              "</table>\n",
              "</div>"
            ],
            "text/plain": [
              "   idade  genero  tipo_dor_peito  pressao_sanguinea_repouso  acucar_jejum  \\\n",
              "0     63       1               1                        145             1   \n",
              "1     67       1               4                        160             0   \n",
              "2     67       1               4                        120             0   \n",
              "3     37       1               3                        130             0   \n",
              "4     41       0               2                        130             0   \n",
              "\n",
              "   resultado_eletrocardio  freq_cardio_max  angina_exercicio  \\\n",
              "0                       2              150                 0   \n",
              "1                       2              108                 1   \n",
              "2                       2              129                 1   \n",
              "3                       0              187                 0   \n",
              "4                       2              172                 0   \n",
              "\n",
              "   depressao_induzida_exercicio  inclinacao num_princ_vasos thal  \\\n",
              "0                           2.3           3               0    6   \n",
              "1                           1.5           2               3    3   \n",
              "2                           2.6           2               2    7   \n",
              "3                           3.5           3               0    3   \n",
              "4                           1.4           1               0    3   \n",
              "\n",
              "   diag_doenca_cardiaca  colesterol  \n",
              "0                     0         233  \n",
              "1                     2         286  \n",
              "2                     1         229  \n",
              "3                     0         250  \n",
              "4                     0         204  "
            ]
          },
          "execution_count": 12,
          "metadata": {},
          "output_type": "execute_result"
        }
      ],
      "source": [
        "batimentos = pd.read_csv('https://gist.githubusercontent.com/davidneves11/01b2963f7a8dfd87d79010fbf847b221/raw/685870f4365bcda4e5bb9e342285e0aac37dd556/colesterol.csv')\n",
        "batimentos.head()"
      ]
    },
    {
      "cell_type": "code",
      "execution_count": 13,
      "metadata": {
        "colab": {
          "base_uri": "https://localhost:8080/",
          "height": 218
        },
        "id": "8c71YK4AXQ4B",
        "outputId": "15a484bb-e467-4c2d-f2a5-e7f820f77db2"
      },
      "outputs": [
        {
          "data": {
            "text/html": [
              "<div>\n",
              "<style scoped>\n",
              "    .dataframe tbody tr th:only-of-type {\n",
              "        vertical-align: middle;\n",
              "    }\n",
              "\n",
              "    .dataframe tbody tr th {\n",
              "        vertical-align: top;\n",
              "    }\n",
              "\n",
              "    .dataframe thead th {\n",
              "        text-align: right;\n",
              "    }\n",
              "</style>\n",
              "<table border=\"1\" class=\"dataframe\">\n",
              "  <thead>\n",
              "    <tr style=\"text-align: right;\">\n",
              "      <th></th>\n",
              "      <th>idade</th>\n",
              "      <th>genero</th>\n",
              "      <th>tipo_dor_peito</th>\n",
              "      <th>pressao_sanguinea_repouso</th>\n",
              "      <th>acucar_jejum</th>\n",
              "      <th>resultado_eletrocardio</th>\n",
              "      <th>freq_cardio_max</th>\n",
              "      <th>angina_exercicio</th>\n",
              "      <th>depressao_induzida_exercicio</th>\n",
              "      <th>inclinacao</th>\n",
              "      <th>num_princ_vasos</th>\n",
              "      <th>thal</th>\n",
              "      <th>diag_doenca_cardiaca</th>\n",
              "      <th>colesterol</th>\n",
              "    </tr>\n",
              "  </thead>\n",
              "  <tbody>\n",
              "    <tr>\n",
              "      <th>0</th>\n",
              "      <td>63</td>\n",
              "      <td>1</td>\n",
              "      <td>1</td>\n",
              "      <td>145</td>\n",
              "      <td>1</td>\n",
              "      <td>2</td>\n",
              "      <td>150</td>\n",
              "      <td>0</td>\n",
              "      <td>2.3</td>\n",
              "      <td>3</td>\n",
              "      <td>0</td>\n",
              "      <td>6</td>\n",
              "      <td>0</td>\n",
              "      <td>233</td>\n",
              "    </tr>\n",
              "    <tr>\n",
              "      <th>1</th>\n",
              "      <td>67</td>\n",
              "      <td>1</td>\n",
              "      <td>4</td>\n",
              "      <td>160</td>\n",
              "      <td>0</td>\n",
              "      <td>2</td>\n",
              "      <td>108</td>\n",
              "      <td>1</td>\n",
              "      <td>1.5</td>\n",
              "      <td>2</td>\n",
              "      <td>3</td>\n",
              "      <td>3</td>\n",
              "      <td>2</td>\n",
              "      <td>286</td>\n",
              "    </tr>\n",
              "    <tr>\n",
              "      <th>2</th>\n",
              "      <td>67</td>\n",
              "      <td>1</td>\n",
              "      <td>4</td>\n",
              "      <td>120</td>\n",
              "      <td>0</td>\n",
              "      <td>2</td>\n",
              "      <td>129</td>\n",
              "      <td>1</td>\n",
              "      <td>2.6</td>\n",
              "      <td>2</td>\n",
              "      <td>2</td>\n",
              "      <td>7</td>\n",
              "      <td>1</td>\n",
              "      <td>229</td>\n",
              "    </tr>\n",
              "    <tr>\n",
              "      <th>3</th>\n",
              "      <td>37</td>\n",
              "      <td>1</td>\n",
              "      <td>3</td>\n",
              "      <td>130</td>\n",
              "      <td>0</td>\n",
              "      <td>0</td>\n",
              "      <td>187</td>\n",
              "      <td>0</td>\n",
              "      <td>3.5</td>\n",
              "      <td>3</td>\n",
              "      <td>0</td>\n",
              "      <td>3</td>\n",
              "      <td>0</td>\n",
              "      <td>250</td>\n",
              "    </tr>\n",
              "    <tr>\n",
              "      <th>4</th>\n",
              "      <td>41</td>\n",
              "      <td>0</td>\n",
              "      <td>2</td>\n",
              "      <td>130</td>\n",
              "      <td>0</td>\n",
              "      <td>2</td>\n",
              "      <td>172</td>\n",
              "      <td>0</td>\n",
              "      <td>1.4</td>\n",
              "      <td>1</td>\n",
              "      <td>0</td>\n",
              "      <td>3</td>\n",
              "      <td>0</td>\n",
              "      <td>204</td>\n",
              "    </tr>\n",
              "  </tbody>\n",
              "</table>\n",
              "</div>"
            ],
            "text/plain": [
              "   idade  genero  tipo_dor_peito  pressao_sanguinea_repouso  acucar_jejum  \\\n",
              "0     63       1               1                        145             1   \n",
              "1     67       1               4                        160             0   \n",
              "2     67       1               4                        120             0   \n",
              "3     37       1               3                        130             0   \n",
              "4     41       0               2                        130             0   \n",
              "\n",
              "   resultado_eletrocardio  freq_cardio_max  angina_exercicio  \\\n",
              "0                       2              150                 0   \n",
              "1                       2              108                 1   \n",
              "2                       2              129                 1   \n",
              "3                       0              187                 0   \n",
              "4                       2              172                 0   \n",
              "\n",
              "   depressao_induzida_exercicio  inclinacao num_princ_vasos thal  \\\n",
              "0                           2.3           3               0    6   \n",
              "1                           1.5           2               3    3   \n",
              "2                           2.6           2               2    7   \n",
              "3                           3.5           3               0    3   \n",
              "4                           1.4           1               0    3   \n",
              "\n",
              "   diag_doenca_cardiaca  colesterol  \n",
              "0                     0         233  \n",
              "1                     2         286  \n",
              "2                     1         229  \n",
              "3                     0         250  \n",
              "4                     0         204  "
            ]
          },
          "execution_count": 13,
          "metadata": {},
          "output_type": "execute_result"
        }
      ],
      "source": [
        "colesterol = pd.read_csv('https://gist.githubusercontent.com/davidneves11/01b2963f7a8dfd87d79010fbf847b221/raw/685870f4365bcda4e5bb9e342285e0aac37dd556/colesterol.csv')\n",
        "colesterol.head()"
      ]
    },
    {
      "cell_type": "code",
      "execution_count": 14,
      "metadata": {
        "id": "0HAW-ZbRO0fs"
      },
      "outputs": [],
      "source": [
        "x = diabetes['idade']\n",
        "y = diabetes['resultado']"
      ]
    },
    {
      "cell_type": "markdown",
      "metadata": {
        "id": "nAfyRituMAuv"
      },
      "source": [
        "## Função train_test_split"
      ]
    },
    {
      "cell_type": "code",
      "execution_count": 15,
      "metadata": {
        "id": "zcbrkb3zNxkb"
      },
      "outputs": [],
      "source": [
        "from sklearn.model_selection import train_test_split\n",
        "\n",
        "x_treino, x_teste, y_treino, y_teste = train_test_split(x, y)"
      ]
    },
    {
      "cell_type": "code",
      "execution_count": 16,
      "metadata": {
        "id": "KN5XVFpPPAGe"
      },
      "outputs": [
        {
          "ename": "NameError",
          "evalue": "name 'score' is not defined",
          "output_type": "error",
          "traceback": [
            "\u001b[1;31m---------------------------------------------------------------------------\u001b[0m",
            "\u001b[1;31mNameError\u001b[0m                                 Traceback (most recent call last)",
            "\u001b[1;32mc:\\Users\\bianc\\Desktop\\Programação\\Data Science - Alura\\Machine Learning - Scikitlearn\\ProjetoCompleto.ipynb Cell 12'\u001b[0m in \u001b[0;36m<cell line: 1>\u001b[1;34m()\u001b[0m\n\u001b[1;32m----> <a href='vscode-notebook-cell:/c%3A/Users/bianc/Desktop/Programa%C3%A7%C3%A3o/Data%20Science%20-%20Alura/Machine%20Learning%20-%20Scikitlearn/ProjetoCompleto.ipynb#ch0000011?line=0'>1</a>\u001b[0m score\n",
            "\u001b[1;31mNameError\u001b[0m: name 'score' is not defined"
          ]
        }
      ],
      "source": [
        "score"
      ]
    },
    {
      "cell_type": "markdown",
      "metadata": {
        "id": "FR-_GPwdjUA5"
      },
      "source": [
        "# Aula 3"
      ]
    },
    {
      "cell_type": "markdown",
      "metadata": {
        "id": "TJfPivKhNUkN"
      },
      "source": [
        "## Importando a base de dados"
      ]
    },
    {
      "cell_type": "code",
      "execution_count": null,
      "metadata": {
        "id": "NI_p0F15thlD"
      },
      "outputs": [],
      "source": [
        "import pandas as pd\n",
        "\n",
        "diabetes = pd.read_csv('https://gist.githubusercontent.com/davidneves11/944edb5ecb7bf6d1770eae91cb20d049/raw/50d3d054185815b0c49561f94badedc06ef3c313/diabetes.csv')\n",
        "diabetes.head()"
      ]
    },
    {
      "cell_type": "markdown",
      "metadata": {
        "id": "aWDIZF2cNlfz"
      },
      "source": [
        "## Definindo as features e labels"
      ]
    },
    {
      "cell_type": "code",
      "execution_count": null,
      "metadata": {
        "id": "Ln_rngV9wLeI"
      },
      "outputs": [],
      "source": [
        "x = diabetes.drop('resultado',axis=1)\n",
        "x"
      ]
    },
    {
      "cell_type": "code",
      "execution_count": null,
      "metadata": {
        "id": "o4kFJzKuybef"
      },
      "outputs": [],
      "source": [
        "y = diabetes['resultado']\n",
        "y"
      ]
    },
    {
      "cell_type": "markdown",
      "metadata": {
        "id": "flYBALLfNvbe"
      },
      "source": [
        "## Separando os dados para treino e teste"
      ]
    },
    {
      "cell_type": "code",
      "execution_count": null,
      "metadata": {
        "id": "XgoQm1csyg8Z"
      },
      "outputs": [],
      "source": [
        "from sklearn.model_selection import train_test_split\n",
        "\n",
        "SEED = 4121988\n",
        "\n",
        "x_treino, x_teste, y_treino, y_teste = train_test_split(x, y)"
      ]
    },
    {
      "cell_type": "markdown",
      "metadata": {
        "id": "qpm03brTN6Bf"
      },
      "source": [
        "## Importando o algoritmo de árvore de decisão"
      ]
    },
    {
      "cell_type": "code",
      "execution_count": null,
      "metadata": {
        "id": "iAZcXM3Uy1tw"
      },
      "outputs": [],
      "source": [
        "from sklearn.tree import DecisionTreeClassifier\n",
        "\n",
        "clf_arvore = DecisionTreeClassifier(random_state=SEED, max_depth=3)"
      ]
    },
    {
      "cell_type": "markdown",
      "metadata": {
        "id": "YoZ7Cn9FOFpO"
      },
      "source": [
        "## Treinando o modelo"
      ]
    },
    {
      "cell_type": "code",
      "execution_count": null,
      "metadata": {
        "id": "2IEt71ROzK4_"
      },
      "outputs": [],
      "source": [
        "clf_arvore.fit(x_treino, y_treino)"
      ]
    },
    {
      "cell_type": "markdown",
      "metadata": {
        "id": "IZnaqVGpOLdj"
      },
      "source": [
        "## Verificando a acurácia do modelo"
      ]
    },
    {
      "cell_type": "code",
      "execution_count": null,
      "metadata": {
        "colab": {
          "base_uri": "https://localhost:8080/"
        },
        "id": "HjsvrrpWziD3",
        "outputId": "04ac503f-4022-4e99-8d78-94a0dc5f22be"
      },
      "outputs": [
        {
          "data": {
            "text/plain": [
              "0.7552083333333334"
            ]
          },
          "execution_count": 8,
          "metadata": {
            "tags": []
          },
          "output_type": "execute_result"
        }
      ],
      "source": [
        "clf_arvore.score(x_teste, y_teste)"
      ]
    },
    {
      "cell_type": "markdown",
      "metadata": {
        "id": "r8OGnE8gOSuk"
      },
      "source": [
        "## Importando o classificador dummy"
      ]
    },
    {
      "cell_type": "code",
      "execution_count": null,
      "metadata": {
        "id": "tdjpe5nfzoqU"
      },
      "outputs": [],
      "source": [
        "from sklearn.dummy import DummyClassifier"
      ]
    },
    {
      "cell_type": "markdown",
      "metadata": {
        "id": "stgWl3TXOsfw"
      },
      "source": [
        "## Treinando o modelo e comparando as acurácias"
      ]
    },
    {
      "cell_type": "code",
      "execution_count": null,
      "metadata": {
        "id": "SLs25rPMz4Vx"
      },
      "outputs": [],
      "source": [
        "clf_dummy = DummyClassifier(strategy='most_frequent')\n",
        "clf_dummy.fit(x_treino, y_treino)"
      ]
    },
    {
      "cell_type": "code",
      "execution_count": null,
      "metadata": {
        "id": "vVVQQALu0A0_"
      },
      "outputs": [],
      "source": [
        "clf_dummy.score(x_teste, y_teste)"
      ]
    },
    {
      "cell_type": "markdown",
      "metadata": {
        "id": "0TnMRPbAMaL5"
      },
      "source": [
        "Plotando a árvore de decisão"
      ]
    },
    {
      "cell_type": "code",
      "execution_count": null,
      "metadata": {
        "id": "zcjyJdaPPcuZ"
      },
      "outputs": [],
      "source": [
        "from sklearn import tree\n",
        "import matplotlib.pyplot as plt\n",
        "\n",
        "fig, ax = plt.subplots(figsize=(15,10))\n",
        "tree.plot_tree(clf_arvore,\n",
        "               ax=ax,\n",
        "               fontsize=10,\n",
        "               rounded=True,\n",
        "               filled=True,\n",
        "               feature_names=x_treino.columns,\n",
        "               class_names=['Não Ativado', 'Ativado'], rotate=True)\n",
        "plt.show"
      ]
    },
    {
      "cell_type": "markdown",
      "metadata": {
        "id": "T0puAETw7kke"
      },
      "source": [
        "# Aula 4"
      ]
    },
    {
      "cell_type": "markdown",
      "metadata": {
        "id": "RIBN5sUVO8KQ"
      },
      "source": [
        "## Importando a base de dados"
      ]
    },
    {
      "cell_type": "code",
      "execution_count": null,
      "metadata": {
        "colab": {
          "base_uri": "https://localhost:8080/",
          "height": 195
        },
        "id": "clPKRVp356bF",
        "outputId": "02f4ea0d-684a-4135-dc8b-5fd7e1c80a44"
      },
      "outputs": [
        {
          "data": {
            "text/html": [
              "<div>\n",
              "<style scoped>\n",
              "    .dataframe tbody tr th:only-of-type {\n",
              "        vertical-align: middle;\n",
              "    }\n",
              "\n",
              "    .dataframe tbody tr th {\n",
              "        vertical-align: top;\n",
              "    }\n",
              "\n",
              "    .dataframe thead th {\n",
              "        text-align: right;\n",
              "    }\n",
              "</style>\n",
              "<table border=\"1\" class=\"dataframe\">\n",
              "  <thead>\n",
              "    <tr style=\"text-align: right;\">\n",
              "      <th></th>\n",
              "      <th>Idade</th>\n",
              "      <th>Peso</th>\n",
              "      <th>Horas de atividade</th>\n",
              "      <th>Batimentos cardiacos</th>\n",
              "    </tr>\n",
              "  </thead>\n",
              "  <tbody>\n",
              "    <tr>\n",
              "      <th>0</th>\n",
              "      <td>44.247295</td>\n",
              "      <td>53.591343</td>\n",
              "      <td>3.397836</td>\n",
              "      <td>82.307425</td>\n",
              "    </tr>\n",
              "    <tr>\n",
              "      <th>1</th>\n",
              "      <td>81.427930</td>\n",
              "      <td>172.569375</td>\n",
              "      <td>33.142344</td>\n",
              "      <td>179.045377</td>\n",
              "    </tr>\n",
              "    <tr>\n",
              "      <th>2</th>\n",
              "      <td>50.807130</td>\n",
              "      <td>74.582817</td>\n",
              "      <td>8.645704</td>\n",
              "      <td>103.522796</td>\n",
              "    </tr>\n",
              "    <tr>\n",
              "      <th>3</th>\n",
              "      <td>55.778712</td>\n",
              "      <td>90.491878</td>\n",
              "      <td>12.622969</td>\n",
              "      <td>114.239779</td>\n",
              "    </tr>\n",
              "    <tr>\n",
              "      <th>4</th>\n",
              "      <td>53.790400</td>\n",
              "      <td>84.129280</td>\n",
              "      <td>11.032320</td>\n",
              "      <td>107.184063</td>\n",
              "    </tr>\n",
              "  </tbody>\n",
              "</table>\n",
              "</div>"
            ],
            "text/plain": [
              "       Idade        Peso  Horas de atividade  Batimentos cardiacos\n",
              "0  44.247295   53.591343            3.397836             82.307425\n",
              "1  81.427930  172.569375           33.142344            179.045377\n",
              "2  50.807130   74.582817            8.645704            103.522796\n",
              "3  55.778712   90.491878           12.622969            114.239779\n",
              "4  53.790400   84.129280           11.032320            107.184063"
            ]
          },
          "execution_count": 17,
          "metadata": {
            "tags": []
          },
          "output_type": "execute_result"
        }
      ],
      "source": [
        "import pandas as pd \n",
        "\n",
        "batimentos = pd.read_csv('https://gist.githubusercontent.com/davidneves11/d72e7f49ab01c856acc5d07be4b1a9dd/raw/37631e3a40da92e6261c00fffdf0fb9b869b35dd/batimentos%2520cardiacos.csv')\n",
        "batimentos.head()"
      ]
    },
    {
      "cell_type": "markdown",
      "metadata": {
        "id": "nN8FGcjgPBIg"
      },
      "source": [
        "Plotando o gráfico"
      ]
    },
    {
      "cell_type": "code",
      "execution_count": null,
      "metadata": {
        "id": "JkXcT1je7wcb"
      },
      "outputs": [],
      "source": [
        "import matplotlib.pyplot as plt\n",
        "import seaborn as sns\n",
        "\n",
        "sns.set()\n",
        "plt.figure(figsize=(100, 50))\n",
        "\n",
        "sns.lmplot(x='Peso', y='Batimentos cardiacos', data=batimentos,line_kws={'color':'red'})\n",
        "plt.show()"
      ]
    },
    {
      "cell_type": "markdown",
      "metadata": {
        "id": "BgEgQZaNPIa9"
      },
      "source": [
        "## Separando os dados para a previsão"
      ]
    },
    {
      "cell_type": "code",
      "execution_count": null,
      "metadata": {
        "id": "PS63XL0TTMbJ"
      },
      "outputs": [],
      "source": [
        "x = batimentos[['Peso','Idade']]"
      ]
    },
    {
      "cell_type": "code",
      "execution_count": null,
      "metadata": {
        "id": "0wQ9G7crTZlQ"
      },
      "outputs": [],
      "source": [
        "y = batimentos['Batimentos cardiacos']"
      ]
    },
    {
      "cell_type": "markdown",
      "metadata": {
        "id": "LfSiw_BRPS0p"
      },
      "source": [
        "## Separando os dados para teste e treino"
      ]
    },
    {
      "cell_type": "code",
      "execution_count": null,
      "metadata": {
        "id": "nS17UxlMTcXo"
      },
      "outputs": [],
      "source": [
        "from sklearn.model_selection import train_test_split\n",
        "\n",
        "SEED=4500\n",
        "\n",
        "x_treino, x_teste, y_treino, y_teste = train_test_split(x, y, random_state = SEED)"
      ]
    },
    {
      "cell_type": "markdown",
      "metadata": {
        "id": "odVUZ4dPPaRb"
      },
      "source": [
        "## Importando o algoritmo de regressão linear"
      ]
    },
    {
      "cell_type": "code",
      "execution_count": null,
      "metadata": {
        "id": "iC60ejkxTxK7"
      },
      "outputs": [],
      "source": [
        "from sklearn import linear_model\n",
        "\n",
        "rgs = linear_model.LinearRegression(fit_intercept=False, normalize=True)"
      ]
    },
    {
      "cell_type": "markdown",
      "metadata": {
        "id": "7kMK4IW6P6K-"
      },
      "source": [
        "## Treinando o modelo"
      ]
    },
    {
      "cell_type": "code",
      "execution_count": null,
      "metadata": {
        "colab": {
          "base_uri": "https://localhost:8080/"
        },
        "id": "l2uQsGuVUDk0",
        "outputId": "d85b4aec-0fc5-4660-f87e-a4952fd752f3"
      },
      "outputs": [
        {
          "data": {
            "text/plain": [
              "LinearRegression(copy_X=True, fit_intercept=False, n_jobs=None, normalize=True)"
            ]
          },
          "execution_count": 25,
          "metadata": {
            "tags": []
          },
          "output_type": "execute_result"
        }
      ],
      "source": [
        "rgs.fit(x_treino, y_treino)"
      ]
    },
    {
      "cell_type": "markdown",
      "metadata": {
        "id": "sSs0uqIqQDO4"
      },
      "source": [
        "## Verificando a acurácia"
      ]
    },
    {
      "cell_type": "code",
      "execution_count": null,
      "metadata": {
        "colab": {
          "base_uri": "https://localhost:8080/"
        },
        "id": "EGdGJvx8UKcF",
        "outputId": "0425bd9b-3d16-4272-a0b9-7ae83e4a3b24"
      },
      "outputs": [
        {
          "data": {
            "text/plain": [
              "0.9872272899997122"
            ]
          },
          "execution_count": 26,
          "metadata": {
            "tags": []
          },
          "output_type": "execute_result"
        }
      ],
      "source": [
        "rgs.score(x_teste, y_teste)"
      ]
    },
    {
      "cell_type": "markdown",
      "metadata": {
        "id": "g0Y3yIHt_uvF"
      },
      "source": [
        "# Aula 5"
      ]
    },
    {
      "cell_type": "markdown",
      "metadata": {
        "id": "FZwtohYeR4nt"
      },
      "source": [
        "## Importando a base de dados"
      ]
    },
    {
      "cell_type": "code",
      "execution_count": null,
      "metadata": {
        "colab": {
          "base_uri": "https://localhost:8080/",
          "height": 218
        },
        "id": "dE3tgzVhUQ7F",
        "outputId": "a9a342c7-8e15-487b-ef06-ebfebab2d98b"
      },
      "outputs": [
        {
          "data": {
            "text/html": [
              "<div>\n",
              "<style scoped>\n",
              "    .dataframe tbody tr th:only-of-type {\n",
              "        vertical-align: middle;\n",
              "    }\n",
              "\n",
              "    .dataframe tbody tr th {\n",
              "        vertical-align: top;\n",
              "    }\n",
              "\n",
              "    .dataframe thead th {\n",
              "        text-align: right;\n",
              "    }\n",
              "</style>\n",
              "<table border=\"1\" class=\"dataframe\">\n",
              "  <thead>\n",
              "    <tr style=\"text-align: right;\">\n",
              "      <th></th>\n",
              "      <th>idade</th>\n",
              "      <th>genero</th>\n",
              "      <th>tipo_dor_peito</th>\n",
              "      <th>pressao_sanguinea_repouso</th>\n",
              "      <th>acucar_jejum</th>\n",
              "      <th>resultado_eletrocardio</th>\n",
              "      <th>freq_cardio_max</th>\n",
              "      <th>angina_exercicio</th>\n",
              "      <th>depressao_induzida_exercicio</th>\n",
              "      <th>inclinacao</th>\n",
              "      <th>num_princ_vasos</th>\n",
              "      <th>thal</th>\n",
              "      <th>diag_doenca_cardiaca</th>\n",
              "      <th>colesterol</th>\n",
              "    </tr>\n",
              "  </thead>\n",
              "  <tbody>\n",
              "    <tr>\n",
              "      <th>0</th>\n",
              "      <td>63</td>\n",
              "      <td>1</td>\n",
              "      <td>1</td>\n",
              "      <td>145</td>\n",
              "      <td>1</td>\n",
              "      <td>2</td>\n",
              "      <td>150</td>\n",
              "      <td>0</td>\n",
              "      <td>2.3</td>\n",
              "      <td>3</td>\n",
              "      <td>0</td>\n",
              "      <td>6</td>\n",
              "      <td>0</td>\n",
              "      <td>233</td>\n",
              "    </tr>\n",
              "    <tr>\n",
              "      <th>1</th>\n",
              "      <td>67</td>\n",
              "      <td>1</td>\n",
              "      <td>4</td>\n",
              "      <td>160</td>\n",
              "      <td>0</td>\n",
              "      <td>2</td>\n",
              "      <td>108</td>\n",
              "      <td>1</td>\n",
              "      <td>1.5</td>\n",
              "      <td>2</td>\n",
              "      <td>3</td>\n",
              "      <td>3</td>\n",
              "      <td>2</td>\n",
              "      <td>286</td>\n",
              "    </tr>\n",
              "    <tr>\n",
              "      <th>2</th>\n",
              "      <td>67</td>\n",
              "      <td>1</td>\n",
              "      <td>4</td>\n",
              "      <td>120</td>\n",
              "      <td>0</td>\n",
              "      <td>2</td>\n",
              "      <td>129</td>\n",
              "      <td>1</td>\n",
              "      <td>2.6</td>\n",
              "      <td>2</td>\n",
              "      <td>2</td>\n",
              "      <td>7</td>\n",
              "      <td>1</td>\n",
              "      <td>229</td>\n",
              "    </tr>\n",
              "    <tr>\n",
              "      <th>3</th>\n",
              "      <td>37</td>\n",
              "      <td>1</td>\n",
              "      <td>3</td>\n",
              "      <td>130</td>\n",
              "      <td>0</td>\n",
              "      <td>0</td>\n",
              "      <td>187</td>\n",
              "      <td>0</td>\n",
              "      <td>3.5</td>\n",
              "      <td>3</td>\n",
              "      <td>0</td>\n",
              "      <td>3</td>\n",
              "      <td>0</td>\n",
              "      <td>250</td>\n",
              "    </tr>\n",
              "    <tr>\n",
              "      <th>4</th>\n",
              "      <td>41</td>\n",
              "      <td>0</td>\n",
              "      <td>2</td>\n",
              "      <td>130</td>\n",
              "      <td>0</td>\n",
              "      <td>2</td>\n",
              "      <td>172</td>\n",
              "      <td>0</td>\n",
              "      <td>1.4</td>\n",
              "      <td>1</td>\n",
              "      <td>0</td>\n",
              "      <td>3</td>\n",
              "      <td>0</td>\n",
              "      <td>204</td>\n",
              "    </tr>\n",
              "  </tbody>\n",
              "</table>\n",
              "</div>"
            ],
            "text/plain": [
              "   idade  genero  tipo_dor_peito  ...  thal  diag_doenca_cardiaca  colesterol\n",
              "0     63       1               1  ...     6                     0         233\n",
              "1     67       1               4  ...     3                     2         286\n",
              "2     67       1               4  ...     7                     1         229\n",
              "3     37       1               3  ...     3                     0         250\n",
              "4     41       0               2  ...     3                     0         204\n",
              "\n",
              "[5 rows x 14 columns]"
            ]
          },
          "execution_count": 3,
          "metadata": {
            "tags": []
          },
          "output_type": "execute_result"
        }
      ],
      "source": [
        "import pandas as pd\n",
        "\n",
        "colesterol = pd.read_csv('https://gist.githubusercontent.com/davidneves11/01b2963f7a8dfd87d79010fbf847b221/raw/685870f4365bcda4e5bb9e342285e0aac37dd556/colesterol.csv')\n",
        "colesterol.head()"
      ]
    },
    {
      "cell_type": "markdown",
      "metadata": {
        "id": "FuwAKsyQR9yE"
      },
      "source": [
        "## Plotando o gráfico"
      ]
    },
    {
      "cell_type": "code",
      "execution_count": null,
      "metadata": {
        "colab": {
          "base_uri": "https://localhost:8080/",
          "height": 298
        },
        "id": "H82qiDHqAAps",
        "outputId": "3ed2ecdf-a63b-4c69-b36c-15287951d73e"
      },
      "outputs": [
        {
          "data": {
            "text/plain": [
              "<matplotlib.axes._subplots.AxesSubplot at 0x7fcd6e035b90>"
            ]
          },
          "execution_count": 4,
          "metadata": {
            "tags": []
          },
          "output_type": "execute_result"
        },
        {
          "data": {
            "image/png": "[encoded data removed]",
            "text/plain": [
              "<Figure size 432x288 with 1 Axes>"
            ]
          },
          "metadata": {
            "needs_background": "light",
            "tags": []
          },
          "output_type": "display_data"
        }
      ],
      "source": [
        "import seaborn as sns\n",
        "\n",
        "sns.scatterplot(x = 'pressao_sanguinea_repouso', y = 'colesterol', data = colesterol)"
      ]
    },
    {
      "cell_type": "markdown",
      "metadata": {
        "id": "W-pKB7MuSBdb"
      },
      "source": [
        "## Importando o algoritmo KMeans"
      ]
    },
    {
      "cell_type": "code",
      "execution_count": null,
      "metadata": {
        "id": "M_SUJHtQDTHl"
      },
      "outputs": [],
      "source": [
        "from sklearn.cluster import KMeans\n",
        "\n",
        "kmeans = KMeans(n_clusters = 2, random_state = 9)"
      ]
    },
    {
      "cell_type": "markdown",
      "metadata": {
        "id": "JJmspFHPSjil"
      },
      "source": [
        "## Definindo a label"
      ]
    },
    {
      "cell_type": "code",
      "execution_count": null,
      "metadata": {
        "id": "yomLctt8EO3f"
      },
      "outputs": [],
      "source": [
        "x = colesterol.select_dtypes('int64')"
      ]
    },
    {
      "cell_type": "markdown",
      "metadata": {
        "id": "szxhF6vhSoRM"
      },
      "source": [
        "## Treinando a label"
      ]
    },
    {
      "cell_type": "code",
      "execution_count": null,
      "metadata": {
        "id": "awHbE4RnEmuK"
      },
      "outputs": [],
      "source": [
        "kmeans.fit(x)"
      ]
    },
    {
      "cell_type": "markdown",
      "metadata": {
        "id": "jRRT0XDOS1yk"
      },
      "source": [
        "## Exibindo a label"
      ]
    },
    {
      "cell_type": "code",
      "execution_count": null,
      "metadata": {
        "id": "Z8Ega7EkExZi"
      },
      "outputs": [],
      "source": [
        "kmeans.labels_"
      ]
    },
    {
      "cell_type": "markdown",
      "metadata": {
        "id": "AcN899k3Stks"
      },
      "source": [
        "## Plotando o gráfico"
      ]
    },
    {
      "cell_type": "code",
      "execution_count": null,
      "metadata": {
        "colab": {
          "base_uri": "https://localhost:8080/",
          "height": 298
        },
        "id": "2YezX_doE003",
        "outputId": "672c15fe-e5df-4fb4-d49d-f9a3886b8f3d"
      },
      "outputs": [
        {
          "data": {
            "text/plain": [
              "<matplotlib.axes._subplots.AxesSubplot at 0x7fcd678d3590>"
            ]
          },
          "execution_count": 9,
          "metadata": {
            "tags": []
          },
          "output_type": "execute_result"
        },
        {
          "data": {
            "image/png": "[encoded data removed]",
            "text/plain": [
              "<Figure size 432x288 with 1 Axes>"
            ]
          },
          "metadata": {
            "needs_background": "light",
            "tags": []
          },
          "output_type": "display_data"
        }
      ],
      "source": [
        "sns.scatterplot(x='pressao_sanguinea_repouso', y='colesterol', data= colesterol, hue = kmeans.labels_)"
      ]
    },
    {
      "cell_type": "markdown",
      "metadata": {
        "id": "Q2H6TngtTLne"
      },
      "source": [
        "## Adicionando a coluna clusters"
      ]
    },
    {
      "cell_type": "code",
      "execution_count": null,
      "metadata": {
        "colab": {
          "base_uri": "https://localhost:8080/",
          "height": 218
        },
        "id": "vY9XUy-zT6h9",
        "outputId": "43bf491b-242e-45dd-dafc-c3a7b2dda0a9"
      },
      "outputs": [
        {
          "data": {
            "text/html": [
              "<div>\n",
              "<style scoped>\n",
              "    .dataframe tbody tr th:only-of-type {\n",
              "        vertical-align: middle;\n",
              "    }\n",
              "\n",
              "    .dataframe tbody tr th {\n",
              "        vertical-align: top;\n",
              "    }\n",
              "\n",
              "    .dataframe thead th {\n",
              "        text-align: right;\n",
              "    }\n",
              "</style>\n",
              "<table border=\"1\" class=\"dataframe\">\n",
              "  <thead>\n",
              "    <tr style=\"text-align: right;\">\n",
              "      <th></th>\n",
              "      <th>idade</th>\n",
              "      <th>genero</th>\n",
              "      <th>tipo_dor_peito</th>\n",
              "      <th>pressao_sanguinea_repouso</th>\n",
              "      <th>acucar_jejum</th>\n",
              "      <th>resultado_eletrocardio</th>\n",
              "      <th>freq_cardio_max</th>\n",
              "      <th>angina_exercicio</th>\n",
              "      <th>depressao_induzida_exercicio</th>\n",
              "      <th>inclinacao</th>\n",
              "      <th>num_princ_vasos</th>\n",
              "      <th>thal</th>\n",
              "      <th>diag_doenca_cardiaca</th>\n",
              "      <th>colesterol</th>\n",
              "      <th>clusters</th>\n",
              "    </tr>\n",
              "  </thead>\n",
              "  <tbody>\n",
              "    <tr>\n",
              "      <th>0</th>\n",
              "      <td>63</td>\n",
              "      <td>1</td>\n",
              "      <td>1</td>\n",
              "      <td>145</td>\n",
              "      <td>1</td>\n",
              "      <td>2</td>\n",
              "      <td>150</td>\n",
              "      <td>0</td>\n",
              "      <td>2.3</td>\n",
              "      <td>3</td>\n",
              "      <td>0</td>\n",
              "      <td>6</td>\n",
              "      <td>0</td>\n",
              "      <td>233</td>\n",
              "      <td>0</td>\n",
              "    </tr>\n",
              "    <tr>\n",
              "      <th>1</th>\n",
              "      <td>67</td>\n",
              "      <td>1</td>\n",
              "      <td>4</td>\n",
              "      <td>160</td>\n",
              "      <td>0</td>\n",
              "      <td>2</td>\n",
              "      <td>108</td>\n",
              "      <td>1</td>\n",
              "      <td>1.5</td>\n",
              "      <td>2</td>\n",
              "      <td>3</td>\n",
              "      <td>3</td>\n",
              "      <td>2</td>\n",
              "      <td>286</td>\n",
              "      <td>1</td>\n",
              "    </tr>\n",
              "    <tr>\n",
              "      <th>2</th>\n",
              "      <td>67</td>\n",
              "      <td>1</td>\n",
              "      <td>4</td>\n",
              "      <td>120</td>\n",
              "      <td>0</td>\n",
              "      <td>2</td>\n",
              "      <td>129</td>\n",
              "      <td>1</td>\n",
              "      <td>2.6</td>\n",
              "      <td>2</td>\n",
              "      <td>2</td>\n",
              "      <td>7</td>\n",
              "      <td>1</td>\n",
              "      <td>229</td>\n",
              "      <td>0</td>\n",
              "    </tr>\n",
              "    <tr>\n",
              "      <th>3</th>\n",
              "      <td>37</td>\n",
              "      <td>1</td>\n",
              "      <td>3</td>\n",
              "      <td>130</td>\n",
              "      <td>0</td>\n",
              "      <td>0</td>\n",
              "      <td>187</td>\n",
              "      <td>0</td>\n",
              "      <td>3.5</td>\n",
              "      <td>3</td>\n",
              "      <td>0</td>\n",
              "      <td>3</td>\n",
              "      <td>0</td>\n",
              "      <td>250</td>\n",
              "      <td>0</td>\n",
              "    </tr>\n",
              "    <tr>\n",
              "      <th>4</th>\n",
              "      <td>41</td>\n",
              "      <td>0</td>\n",
              "      <td>2</td>\n",
              "      <td>130</td>\n",
              "      <td>0</td>\n",
              "      <td>2</td>\n",
              "      <td>172</td>\n",
              "      <td>0</td>\n",
              "      <td>1.4</td>\n",
              "      <td>1</td>\n",
              "      <td>0</td>\n",
              "      <td>3</td>\n",
              "      <td>0</td>\n",
              "      <td>204</td>\n",
              "      <td>0</td>\n",
              "    </tr>\n",
              "  </tbody>\n",
              "</table>\n",
              "</div>"
            ],
            "text/plain": [
              "   idade  genero  tipo_dor_peito  ...  diag_doenca_cardiaca  colesterol  clusters\n",
              "0     63       1               1  ...                     0         233         0\n",
              "1     67       1               4  ...                     2         286         1\n",
              "2     67       1               4  ...                     1         229         0\n",
              "3     37       1               3  ...                     0         250         0\n",
              "4     41       0               2  ...                     0         204         0\n",
              "\n",
              "[5 rows x 15 columns]"
            ]
          },
          "execution_count": 15,
          "metadata": {
            "tags": []
          },
          "output_type": "execute_result"
        }
      ],
      "source": [
        "colesterol['clusters'] = kmeans.labels_\n",
        "colesterol.head()"
      ]
    },
    {
      "cell_type": "markdown",
      "metadata": {
        "id": "cd72YpOLS9sn"
      },
      "source": [
        "## Agrupando a coluna clusters fazendo a média do colesterol"
      ]
    },
    {
      "cell_type": "code",
      "execution_count": null,
      "metadata": {
        "colab": {
          "base_uri": "https://localhost:8080/"
        },
        "id": "KogHEi5cUQ4F",
        "outputId": "cd7b7748-92ff-4a4b-cadf-f46d5db4690f"
      },
      "outputs": [
        {
          "data": {
            "text/plain": [
              "clusters\n",
              "0    216.473958\n",
              "1    298.963964\n",
              "Name: colesterol, dtype: float64"
            ]
          },
          "execution_count": 13,
          "metadata": {
            "tags": []
          },
          "output_type": "execute_result"
        }
      ],
      "source": [
        "colesterol.groupby('clusters')['colesterol'].mean()"
      ]
    }
  ],
  "metadata": {
    "colab": {
      "collapsed_sections": [
        "yfn-WekILVdW",
        "flYBALLfNvbe",
        "qpm03brTN6Bf",
        "YoZ7Cn9FOFpO",
        "IZnaqVGpOLdj",
        "r8OGnE8gOSuk",
        "stgWl3TXOsfw",
        "T0puAETw7kke",
        "RIBN5sUVO8KQ",
        "BgEgQZaNPIa9",
        "LfSiw_BRPS0p",
        "odVUZ4dPPaRb",
        "7kMK4IW6P6K-",
        "sSs0uqIqQDO4"
      ],
      "name": "Curso sklearn",
      "provenance": [],
      "toc_visible": true
    },
    "kernelspec": {
      "display_name": "Python 3",
      "name": "python3"
    },
    "language_info": {
      "codemirror_mode": {
        "name": "ipython",
        "version": 3
      },
      "file_extension": ".py",
      "mimetype": "text/x-python",
      "name": "python",
      "nbconvert_exporter": "python",
      "pygments_lexer": "ipython3",
      "version": "3.10.2"
    }
  },
  "nbformat": 4,
  "nbformat_minor": 0
}
